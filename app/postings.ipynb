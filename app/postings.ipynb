{
 "cells": [
  {
   "cell_type": "markdown",
   "id": "ebb36ba7",
   "metadata": {},
   "source": [
    "# Job skills analysis"
   ]
  },
  {
   "cell_type": "code",
   "execution_count": 1,
   "id": "c482aa42",
   "metadata": {},
   "outputs": [],
   "source": [
    "import pandas as pd \n",
    "from collections import Counter\n",
    "import re"
   ]
  },
  {
   "cell_type": "code",
   "execution_count": 2,
   "id": "59372deb",
   "metadata": {},
   "outputs": [
    {
     "name": "stderr",
     "output_type": "stream",
     "text": [
      "<>:1: SyntaxWarning: invalid escape sequence '\\c'\n",
      "<>:1: SyntaxWarning: invalid escape sequence '\\c'\n",
      "C:\\Users\\yusse\\AppData\\Local\\Temp\\ipykernel_7788\\781776912.py:1: SyntaxWarning: invalid escape sequence '\\c'\n",
      "  df = pd.read_csv(\"Y:\\code\\data_sci\\SkillCheck\\dataset\\job_skills.csv\")\n"
     ]
    }
   ],
   "source": [
    "df = pd.read_csv(\"Y:\\code\\data_sci\\SkillCheck\\dataset\\job_skills.csv\")"
   ]
  },
  {
   "cell_type": "code",
   "execution_count": 3,
   "id": "380a8ba6",
   "metadata": {},
   "outputs": [
    {
     "data": {
      "text/html": [
       "<div>\n",
       "<style scoped>\n",
       "    .dataframe tbody tr th:only-of-type {\n",
       "        vertical-align: middle;\n",
       "    }\n",
       "\n",
       "    .dataframe tbody tr th {\n",
       "        vertical-align: top;\n",
       "    }\n",
       "\n",
       "    .dataframe thead th {\n",
       "        text-align: right;\n",
       "    }\n",
       "</style>\n",
       "<table border=\"1\" class=\"dataframe\">\n",
       "  <thead>\n",
       "    <tr style=\"text-align: right;\">\n",
       "      <th></th>\n",
       "      <th>job_link</th>\n",
       "      <th>job_skills</th>\n",
       "    </tr>\n",
       "  </thead>\n",
       "  <tbody>\n",
       "    <tr>\n",
       "      <th>0</th>\n",
       "      <td>https://www.linkedin.com/jobs/view/senior-mach...</td>\n",
       "      <td>Machine Learning, Programming, Python, Scala, ...</td>\n",
       "    </tr>\n",
       "    <tr>\n",
       "      <th>1</th>\n",
       "      <td>https://www.linkedin.com/jobs/view/principal-s...</td>\n",
       "      <td>C++, Python, PyTorch, TensorFlow, MXNet, CUDA,...</td>\n",
       "    </tr>\n",
       "    <tr>\n",
       "      <th>2</th>\n",
       "      <td>https://www.linkedin.com/jobs/view/senior-etl-...</td>\n",
       "      <td>ETL, Data Integration, Data Transformation, Da...</td>\n",
       "    </tr>\n",
       "    <tr>\n",
       "      <th>3</th>\n",
       "      <td>https://www.linkedin.com/jobs/view/senior-data...</td>\n",
       "      <td>Data Lakes, Data Bricks, Azure Data Factory Pi...</td>\n",
       "    </tr>\n",
       "    <tr>\n",
       "      <th>4</th>\n",
       "      <td>https://www.linkedin.com/jobs/view/lead-data-e...</td>\n",
       "      <td>Java, Scala, Python, RDBMS, NoSQL, Redshift, S...</td>\n",
       "    </tr>\n",
       "  </tbody>\n",
       "</table>\n",
       "</div>"
      ],
      "text/plain": [
       "                                            job_link  \\\n",
       "0  https://www.linkedin.com/jobs/view/senior-mach...   \n",
       "1  https://www.linkedin.com/jobs/view/principal-s...   \n",
       "2  https://www.linkedin.com/jobs/view/senior-etl-...   \n",
       "3  https://www.linkedin.com/jobs/view/senior-data...   \n",
       "4  https://www.linkedin.com/jobs/view/lead-data-e...   \n",
       "\n",
       "                                          job_skills  \n",
       "0  Machine Learning, Programming, Python, Scala, ...  \n",
       "1  C++, Python, PyTorch, TensorFlow, MXNet, CUDA,...  \n",
       "2  ETL, Data Integration, Data Transformation, Da...  \n",
       "3  Data Lakes, Data Bricks, Azure Data Factory Pi...  \n",
       "4  Java, Scala, Python, RDBMS, NoSQL, Redshift, S...  "
      ]
     },
     "execution_count": 3,
     "metadata": {},
     "output_type": "execute_result"
    }
   ],
   "source": [
    "df.head()"
   ]
  },
  {
   "cell_type": "code",
   "execution_count": 21,
   "id": "345d87f1",
   "metadata": {},
   "outputs": [
    {
     "data": {
      "text/plain": [
       "'Machine Learning, Programming, Python, Scala, Java, Data Engineering, Distributed Computing, Statistical Modeling, Optimization, Data Pipelines, Cloud Computing, DevOps, Software Development, Data Gathering, Data Preparation, Data Visualization, Machine Learning Frameworks, scikitlearn, PyTorch, Dask, Spark, TensorFlow, Distributed File Systems, Multi node Database Paradigms, Open Source ML Software, Responsible AI, Explainable AI'"
      ]
     },
     "execution_count": 21,
     "metadata": {},
     "output_type": "execute_result"
    }
   ],
   "source": [
    "skill.iloc[0, 1]"
   ]
  },
  {
   "cell_type": "code",
   "execution_count": 28,
   "id": "ca0aac1f",
   "metadata": {},
   "outputs": [],
   "source": [
    "skill_delimiters = [',', ';', '/', '|']\n",
    "all_skills = []\n",
    "for skill_string in df['job_skills'].astype(str).dropna():\n",
    "    individual_skills = re.split('|'.join(map(re.escape, skill_delimiters)), skill_string)\n",
    "\n",
    "    for skilled in individual_skills:\n",
    "        cleaned_skill = skilled.strip().lower()\n",
    "\n",
    "        if cleaned_skill:\n",
    "            all_skills.append(cleaned_skill)"
   ]
  },
  {
   "cell_type": "code",
   "execution_count": 29,
   "id": "f2702e9f",
   "metadata": {},
   "outputs": [],
   "source": [
    "skill_counts = Counter(all_skills)"
   ]
  },
  {
   "cell_type": "code",
   "execution_count": 31,
   "id": "7974c959",
   "metadata": {},
   "outputs": [
    {
     "name": "stdout",
     "output_type": "stream",
     "text": [
      "\n",
      "Found 64611 unique skills\n",
      "Top 10 most common skills:\n",
      "- python: 4841\n",
      "- sql: 4825\n",
      "- data analysis: 3295\n",
      "- machine learning: 2697\n",
      "- communication: 2508\n",
      "- data visualization: 2332\n",
      "- aws: 1760\n",
      "- project management: 1742\n",
      "- data engineering: 1725\n",
      "- communication skills: 1713\n"
     ]
    }
   ],
   "source": [
    "print(f'\\nFound {len(skill_counts)} unique skills')\n",
    "print(\"Top 10 most common skills:\")\n",
    "for skill, count in skill_counts.most_common(10):\n",
    "    print(f\"- {skill}: {count}\")"
   ]
  },
  {
   "cell_type": "code",
   "execution_count": null,
   "id": "09aa82eb",
   "metadata": {},
   "outputs": [],
   "source": []
  }
 ],
 "metadata": {
  "kernelspec": {
   "display_name": "Python 3",
   "language": "python",
   "name": "python3"
  },
  "language_info": {
   "codemirror_mode": {
    "name": "ipython",
    "version": 3
   },
   "file_extension": ".py",
   "mimetype": "text/x-python",
   "name": "python",
   "nbconvert_exporter": "python",
   "pygments_lexer": "ipython3",
   "version": "3.13.3"
  }
 },
 "nbformat": 4,
 "nbformat_minor": 5
}
